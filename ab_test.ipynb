{
 "cells": [
  {
   "cell_type": "code",
   "execution_count": null,
   "id": "be0907d2",
   "metadata": {},
   "outputs": [],
   "source": [
    "#buat dummy file\n",
    "\n",
    "import numpy as np\n",
    "import pandas as pd\n",
    "np.random.seed(42)\n",
    "\n",
    "n_A = 80000\n",
    "n_B = 80000\n",
    "p_A = 0.02\n",
    "p_B = 0.024  # 20% relative uplift\n",
    "\n",
    "conv_A = np.random.binomial(1, p_A, n_A)\n",
    "conv_B = np.random.binomial(1, p_B, n_B)\n",
    "\n",
    "df_A = pd.DataFrame({\n",
    "    'variant': 'A',\n",
    "    'user_id': np.arange(n_A),\n",
    "    'converted': conv_A\n",
    "})\n",
    "\n",
    "df_B = pd.DataFrame({\n",
    "    'variant': 'B',\n",
    "    'user_id': np.arange(n_A, n_A + n_B),\n",
    "    'converted': conv_B\n",
    "})\n",
    "\n",
    "df = pd.concat([df_A, df_B], ignore_index=True)\n",
    "\n",
    "# Tambahan kolom waktu dan kontaminan sederhana\n",
    "import datetime\n",
    "start = datetime.datetime(2025,7,1)\n",
    "df['timestamp'] = [start + datetime.timedelta(seconds=int(x)) for x in np.random.randint(0, 14*24*3600, len(df))]\n",
    "\n",
    "# Simpan\n",
    "# "
   ]
  },
  {
   "cell_type": "code",
   "execution_count": 2,
   "id": "e6606935",
   "metadata": {},
   "outputs": [],
   "source": [
    "df.to_csv('ab_test_simulated.csv', index=False)"
   ]
  },
  {
   "cell_type": "code",
   "execution_count": 3,
   "id": "2612311b",
   "metadata": {},
   "outputs": [
    {
     "data": {
      "text/html": [
       "<div>\n",
       "<style scoped>\n",
       "    .dataframe tbody tr th:only-of-type {\n",
       "        vertical-align: middle;\n",
       "    }\n",
       "\n",
       "    .dataframe tbody tr th {\n",
       "        vertical-align: top;\n",
       "    }\n",
       "\n",
       "    .dataframe thead th {\n",
       "        text-align: right;\n",
       "    }\n",
       "</style>\n",
       "<table border=\"1\" class=\"dataframe\">\n",
       "  <thead>\n",
       "    <tr style=\"text-align: right;\">\n",
       "      <th></th>\n",
       "      <th>variant</th>\n",
       "      <th>user_id</th>\n",
       "      <th>converted</th>\n",
       "      <th>timestamp</th>\n",
       "    </tr>\n",
       "  </thead>\n",
       "  <tbody>\n",
       "    <tr>\n",
       "      <th>0</th>\n",
       "      <td>A</td>\n",
       "      <td>0</td>\n",
       "      <td>0</td>\n",
       "      <td>2025-07-14 19:56:19</td>\n",
       "    </tr>\n",
       "    <tr>\n",
       "      <th>1</th>\n",
       "      <td>A</td>\n",
       "      <td>1</td>\n",
       "      <td>0</td>\n",
       "      <td>2025-07-01 06:44:54</td>\n",
       "    </tr>\n",
       "    <tr>\n",
       "      <th>2</th>\n",
       "      <td>A</td>\n",
       "      <td>2</td>\n",
       "      <td>0</td>\n",
       "      <td>2025-07-11 12:10:04</td>\n",
       "    </tr>\n",
       "    <tr>\n",
       "      <th>3</th>\n",
       "      <td>A</td>\n",
       "      <td>3</td>\n",
       "      <td>0</td>\n",
       "      <td>2025-07-10 21:15:32</td>\n",
       "    </tr>\n",
       "    <tr>\n",
       "      <th>4</th>\n",
       "      <td>A</td>\n",
       "      <td>4</td>\n",
       "      <td>0</td>\n",
       "      <td>2025-07-10 15:45:46</td>\n",
       "    </tr>\n",
       "  </tbody>\n",
       "</table>\n",
       "</div>"
      ],
      "text/plain": [
       "  variant  user_id  converted           timestamp\n",
       "0       A        0          0 2025-07-14 19:56:19\n",
       "1       A        1          0 2025-07-01 06:44:54\n",
       "2       A        2          0 2025-07-11 12:10:04\n",
       "3       A        3          0 2025-07-10 21:15:32\n",
       "4       A        4          0 2025-07-10 15:45:46"
      ]
     },
     "execution_count": 3,
     "metadata": {},
     "output_type": "execute_result"
    }
   ],
   "source": [
    "df.head()"
   ]
  },
  {
   "cell_type": "code",
   "execution_count": 7,
   "id": "49b20b15",
   "metadata": {},
   "outputs": [
    {
     "data": {
      "text/plain": [
       "(np.float64(6.192152101267748), np.float64(2.967411939050872e-10))"
      ]
     },
     "execution_count": 7,
     "metadata": {},
     "output_type": "execute_result"
    }
   ],
   "source": [
    "# Analisis sederhana\n",
    "import statsmodels.api as sm\n",
    "from statsmodels.stats.proportion import proportions_ztest\n",
    "\n",
    "counts = np.array([df[df.variant=='B'].converted.sum(), df[df.variant=='A'].converted.sum()])\n",
    "ns = np.array([df[df.variant=='B'].shape[0], df[df.variant=='A'].shape[0]])\n",
    "\n",
    "# biasanya order: count, nobs\n",
    "stat, pval_two_sided = proportions_ztest(counts, ns)\n",
    "# convert to one-sided if direction positive (B > A)\n",
    "if stat > 0:\n",
    "    pval_one_sided = pval_two_sided / 2\n",
    "else:\n",
    "    pval_one_sided = 1 - pval_two_sided / 2\n",
    "\n",
    "stat, pval_one_sided"
   ]
  },
  {
   "cell_type": "code",
   "execution_count": 5,
   "id": "5c9964e0",
   "metadata": {},
   "outputs": [
    {
     "data": {
      "image/png": "[encoded data removed]",
      "text/plain": [
       "<Figure size 600x400 with 1 Axes>"
      ]
     },
     "metadata": {},
     "output_type": "display_data"
    }
   ],
   "source": [
    "import matplotlib.pyplot as plt\n",
    "import scipy.stats as st\n",
    "\n",
    "# CR per variant\n",
    "agg = df.groupby('variant').converted.agg(['mean','count'])\n",
    "agg['se'] = np.sqrt(agg['mean']*(1-agg['mean'])/agg['count'])\n",
    "agg['ci95'] = st.norm.ppf(0.975)*agg['se']\n",
    "\n",
    "plt.figure(figsize=(6,4))\n",
    "plt.bar(agg.index, agg['mean'])\n",
    "plt.errorbar(agg.index, agg['mean'], yerr=agg['ci95'], fmt='none', capsize=5)\n",
    "plt.ylabel('Conversion Rate')\n",
    "plt.title('Conversion Rate per Variant')\n",
    "plt.show()"
   ]
  },
  {
   "cell_type": "code",
   "execution_count": null,
   "id": "fe7fee24",
   "metadata": {},
   "outputs": [],
   "source": []
  }
 ],
 "metadata": {
  "kernelspec": {
   "display_name": "Python 3",
   "language": "python",
   "name": "python3"
  },
  "language_info": {
   "codemirror_mode": {
    "name": "ipython",
    "version": 3
   },
   "file_extension": ".py",
   "mimetype": "text/x-python",
   "name": "python",
   "nbconvert_exporter": "python",
   "pygments_lexer": "ipython3",
   "version": "3.12.5"
  }
 },
 "nbformat": 4,
 "nbformat_minor": 5
}
